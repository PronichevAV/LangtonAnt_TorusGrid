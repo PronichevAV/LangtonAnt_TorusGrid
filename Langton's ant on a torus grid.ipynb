{
 "cells": [
  {
   "cell_type": "markdown",
   "id": "irish-means",
   "metadata": {},
   "source": [
    "# Эволюция клеточного автомата \"Муравей Лэнгтона\" на торических решетках"
   ]
  },
  {
   "cell_type": "markdown",
   "id": "outstanding-words",
   "metadata": {},
   "source": [
    "## Краткое описание"
   ]
  },
  {
   "cell_type": "markdown",
   "id": "altered-bailey",
   "metadata": {},
   "source": [
    "Муравей Лэнгтона — это двумерный клеточный автомат с очень простыми правилами, изобретенный Крисом Лэнгтоном. Муравья можно также считать двумерной машиной Тьюринга с 2 символами и 4 состояниями."
   ]
  },
  {
   "cell_type": "markdown",
   "id": "ordered-outside",
   "metadata": {},
   "source": [
    "## Правила движения"
   ]
  },
  {
   "cell_type": "markdown",
   "id": "silent-motivation",
   "metadata": {},
   "source": [
    "Рассмотрим бесконечную плоскость, разбитую на клетки, покрашенные некоторым образом в чёрный и белый цвет. Пусть в одной из клеток находится «муравей», который на каждом шаге может двигаться в одном из четырёх направлений в клетку, соседнюю по стороне. Муравей движется согласно следующим правилам:\n",
    "\n",
    "1. На чёрном квадрате — повернуть на 90° влево, изменить цвет квадрата на белый, сделать шаг вперед на следующую клетку.\n",
    "2. На белом квадрате — повернуть на 90° вправо, изменить цвет квадрата на чёрный, сделать шаг вперед на следующую клетку."
   ]
  },
  {
   "cell_type": "markdown",
   "id": "looking-length",
   "metadata": {},
   "source": [
    "![AntUrl](https://upload.wikimedia.org/wikipedia/commons/0/09/LangtonsAntAnimated.gif \"Ant\")"
   ]
  },
  {
   "cell_type": "markdown",
   "id": "capable-offense",
   "metadata": {},
   "source": [
    "## Ключевые особенности реализуемого алгоритма"
   ]
  },
  {
   "cell_type": "markdown",
   "id": "adopted-citizenship",
   "metadata": {},
   "source": [
    "Опишем интересующую нас версию муравья Лэнгтона, формулируем и докажем несколько гипотез о его эволюции. Как известно, тор – это сплошная фигура, образованная вращением круга вокруг прямой, лежащей в плоскости этого круга, но не пересекающей его. \n",
    "\n",
    "В нашем случае муравей будет перемещаться по плоскому тору (торической решётке). Плоский тор – это фигура, получающаяся из квадрата склейкой его противоположных сторон. Если представить себе квадрат и соединить его верхнюю границу с нижней, мы получим фигуру, похожую на цилиндр. Если затем соединить края цилиндра друг с другом, то получится тор. Мы будем предполагать, что наше поле – это решётка на торе, полученная в результате такой операции и использовать для неё термин «торическая решётка».\n",
    "\n",
    "Понятно, что основное отличие от случая эволюции на плоскости заключается в том, что теперь поле состоит из конечного числа клеток. Поскольку количество всевозможных раскрасок этих клеток в два цвета и количество возможных положений муравья конечно, рано или поздно возникнет конфигурация, которая уже была. Более того, понятно, что по данной конфигурации мы можем восстановить предыдущую однозначно, откуда следует, что первая повторившаяся конфигурация – это и есть самая первая конфигурация.\n",
    "\n",
    "Мы будем рассматривать случай, когда изначально все клетки торической решётки белые. Таким образом, основной вопрос заключается в том, через какое число ходов мы получим снова белое поле с первоначальным положением муравья. Также интересно, когда поле станет белым впервые (независимо от того, в какой клетке находится и куда смотрит муравей).\n"
   ]
  },
  {
   "cell_type": "markdown",
   "id": "animated-configuration",
   "metadata": {},
   "source": [
    "## Решение задачи"
   ]
  },
  {
   "cell_type": "markdown",
   "id": "dietary-penguin",
   "metadata": {},
   "source": [
    "Импортируем необходимые библиотеки"
   ]
  },
  {
   "cell_type": "code",
   "execution_count": 1,
   "id": "stretch-psychology",
   "metadata": {},
   "outputs": [],
   "source": [
    "import matplotlib.pyplot as plt\n",
    "import matplotlib.image as mpimg\n",
    "import glob\n",
    "import moviepy.editor as mpy\n",
    "import pandas as pd"
   ]
  },
  {
   "cell_type": "markdown",
   "id": "southwest-establishment",
   "metadata": {},
   "source": [
    "Введем размер торической решетки, ее цвет и нальное положение и напрвление взляда муравья муравья"
   ]
  },
  {
   "cell_type": "code",
   "execution_count": 2,
   "id": "affected-buddy",
   "metadata": {},
   "outputs": [
    {
     "name": "stdout",
     "output_type": "stream",
     "text": [
      "Введите размер матрицы: \n",
      "(4, 4)\n"
     ]
    }
   ],
   "source": [
    "print('Введите размер матрицы: ')\n",
    "matrix_size = str('4 4').split()\n",
    "matrix_size = tuple(map(int, matrix_size))\n",
    "print(matrix_size)"
   ]
  },
  {
   "cell_type": "code",
   "execution_count": 3,
   "id": "narrative-american",
   "metadata": {},
   "outputs": [
    {
     "name": "stdout",
     "output_type": "stream",
     "text": [
      "Введите цвет матрицы: \n",
      "white\n"
     ]
    }
   ],
   "source": [
    "print('Введите цвет матрицы: ')\n",
    "start_color = str('white').lower()\n",
    "print(start_color)"
   ]
  },
  {
   "cell_type": "code",
   "execution_count": 4,
   "id": "under-moore",
   "metadata": {},
   "outputs": [
    {
     "name": "stdout",
     "output_type": "stream",
     "text": [
      "Введите начальное положение муравья: \n",
      "(0, 0)\n"
     ]
    }
   ],
   "source": [
    "print('Введите начальное положение муравья: ')\n",
    "start_location = str('0 0').split()\n",
    "start_location = tuple(map(int, start_location))\n",
    "print(start_location)"
   ]
  },
  {
   "cell_type": "code",
   "execution_count": 5,
   "id": "stretch-springfield",
   "metadata": {},
   "outputs": [
    {
     "name": "stdout",
     "output_type": "stream",
     "text": [
      "Введите направление муравья: \n",
      "up\n"
     ]
    }
   ],
   "source": [
    "print('Введите направление муравья: ')\n",
    "start_direction = str('up').lower()\n",
    "directions = {'up': '^', 'down': 'v', 'left': '<', 'right': '>'}\n",
    "print(start_direction)"
   ]
  },
  {
   "cell_type": "markdown",
   "id": "lasting-characterization",
   "metadata": {},
   "source": [
    "Укажем директорию для сохранения промежуточных результатов"
   ]
  },
  {
   "cell_type": "code",
   "execution_count": 6,
   "id": "fixed-mining",
   "metadata": {},
   "outputs": [],
   "source": [
    "# save_directory = 'C:/'"
   ]
  },
  {
   "cell_type": "markdown",
   "id": "attempted-document",
   "metadata": {},
   "source": [
    "Создадим двумерные массивы, отражающие текущее значение цвета и положения муравья"
   ]
  },
  {
   "cell_type": "code",
   "execution_count": 7,
   "id": "refined-interval",
   "metadata": {},
   "outputs": [],
   "source": [
    "colors_dict = {'black': 0, 'white': 1} \n",
    "color = colors_dict.get(start_color)\n",
    "\n",
    "# Матрица цвета\n",
    "matrix_color = [[color for columns in range(matrix_size[0])]\n",
    "                for rows in range(matrix_size[1])]\n",
    "\n",
    "# Переменная, исмользуемая для проверки возвращения цвета в исходное состояние\n",
    "check_color = 0 "
   ]
  },
  {
   "cell_type": "code",
   "execution_count": 8,
   "id": "unexpected-bulgaria",
   "metadata": {},
   "outputs": [],
   "source": [
    "# Матрица положения муравья\n",
    "matrix_location = [[int(0) for column in range(matrix_size[0])] for row in range(matrix_size[1])]\n",
    "\n",
    "# Указание начального положения муравья в матрице\n",
    "matrix_location[start_location[1]][start_location[0]] = int(1)\n",
    "\n",
    "# Переменная, отражающая текущее положение в матрице\n",
    "current_location = list(start_location)\n",
    "\n",
    "# Переменная, отражающая текущее направление взгляда муравья\n",
    "current_direction = start_direction"
   ]
  },
  {
   "cell_type": "markdown",
   "id": "industrial-notification",
   "metadata": {},
   "source": [
    "Опишем функции, отвечающие за движение муравья в каждом направлении"
   ]
  },
  {
   "cell_type": "markdown",
   "id": "immediate-creek",
   "metadata": {},
   "source": [
    "Движение влево:"
   ]
  },
  {
   "cell_type": "code",
   "execution_count": 9,
   "id": "introductory-breach",
   "metadata": {},
   "outputs": [],
   "source": [
    "def go_left():\n",
    "    global matrix_color, matrix_location, current_location, current_direction, check_color\n",
    "    # Изменение цвета ячейки\n",
    "    if matrix_color[current_location[1]][current_location[0]] == 0:\n",
    "        matrix_color[current_location[1]][current_location[0]] = 1\n",
    "        check_color -= 1\n",
    "    else:\n",
    "        matrix_color[current_location[1]][current_location[0]] = 0\n",
    "        check_color += 1\n",
    "    # Удаление старого положения в матрице\n",
    "    matrix_location[current_location[1]][current_location[0]] = 0\n",
    "    \n",
    "    # Обновление текущего положения муравья\n",
    "    if current_location[0] == 0:\n",
    "        current_location[0] = int(matrix_size[0]) - 1\n",
    "    else:\n",
    "        current_location[0] -= 1\n",
    "    # Внесение нового положения муравья в матрицу\n",
    "    matrix_location[current_location[1]][current_location[0]] = 1\n",
    "\n",
    "    # Изменение направления взгляда муравья\n",
    "    if matrix_color[current_location[1]][current_location[0]] == 0:\n",
    "        current_direction = 'down'\n",
    "    else:\n",
    "        current_direction = 'up'"
   ]
  },
  {
   "cell_type": "markdown",
   "id": "alpine-subscription",
   "metadata": {},
   "source": [
    "Движение вправо:"
   ]
  },
  {
   "cell_type": "code",
   "execution_count": 10,
   "id": "widespread-dress",
   "metadata": {},
   "outputs": [],
   "source": [
    "def go_right():\n",
    "    global matrix_color, matrix_location, current_location, current_direction, check_color\n",
    "\n",
    "    if matrix_color[current_location[1]][current_location[0]] == 0:\n",
    "        matrix_color[current_location[1]][current_location[0]] = 1\n",
    "        check_color -= 1\n",
    "    else:\n",
    "        matrix_color[current_location[1]][current_location[0]] = 0\n",
    "        check_color += 1\n",
    "\n",
    "    matrix_location[current_location[1]][current_location[0]] = 0\n",
    "\n",
    "    if current_location[0] == int(matrix_size[0]) - 1:\n",
    "        current_location[0] = 0\n",
    "    else:\n",
    "        current_location[0] += 1\n",
    "\n",
    "    matrix_location[current_location[1]][current_location[0]] = 1\n",
    "\n",
    "    if matrix_color[current_location[1]][current_location[0]] == 0:\n",
    "        current_direction = 'up'\n",
    "    else:\n",
    "        current_direction = 'down'"
   ]
  },
  {
   "cell_type": "markdown",
   "id": "guided-provider",
   "metadata": {},
   "source": [
    "Движение вверх:"
   ]
  },
  {
   "cell_type": "code",
   "execution_count": 11,
   "id": "seeing-jacksonville",
   "metadata": {},
   "outputs": [],
   "source": [
    "def go_up():\n",
    "    global matrix_color, matrix_location, current_location, current_direction, check_color\n",
    "\n",
    "    if matrix_color[current_location[1]][current_location[0]] == 0:\n",
    "        matrix_color[current_location[1]][current_location[0]] = 1\n",
    "        check_color -= 1\n",
    "    else:\n",
    "        matrix_color[current_location[1]][current_location[0]] = 0\n",
    "        check_color += 1\n",
    "\n",
    "    matrix_location[current_location[1]][current_location[0]] = 0\n",
    "\n",
    "    if current_location[1] == 0:\n",
    "        current_location[1] = int(matrix_size[1]) - 1\n",
    "    else:\n",
    "        current_location[1] -= 1\n",
    "\n",
    "    matrix_location[current_location[1]][current_location[0]] = 1\n",
    "\n",
    "    if matrix_color[current_location[1]][current_location[0]] == 0:\n",
    "        current_direction = 'left'\n",
    "    else:\n",
    "        current_direction = 'right'"
   ]
  },
  {
   "cell_type": "markdown",
   "id": "individual-hunger",
   "metadata": {},
   "source": [
    "Движение вниз:"
   ]
  },
  {
   "cell_type": "code",
   "execution_count": 12,
   "id": "champion-bunch",
   "metadata": {},
   "outputs": [],
   "source": [
    "def go_down():\n",
    "    global matrix_color, matrix_location, current_location, current_direction, check_color\n",
    "\n",
    "    if matrix_color[current_location[1]][current_location[0]] == 0:\n",
    "        matrix_color[current_location[1]][current_location[0]] = 1\n",
    "        check_color -= 1\n",
    "    else:\n",
    "        matrix_color[current_location[1]][current_location[0]] = 0\n",
    "        check_color += 1\n",
    "\n",
    "    matrix_location[current_location[1]][current_location[0]] = 0\n",
    "\n",
    "    if current_location[1] == int(matrix_size[1]) - 1:\n",
    "        current_location[1] = 0\n",
    "    else:\n",
    "        current_location[1] += 1\n",
    "\n",
    "    matrix_location[current_location[1]][current_location[0]] = 1\n",
    "\n",
    "    if matrix_color[current_location[1]][current_location[0]] == 0:\n",
    "        current_direction = 'right'\n",
    "    else:\n",
    "        current_direction = 'left'"
   ]
  },
  {
   "cell_type": "markdown",
   "id": "designing-barbados",
   "metadata": {},
   "source": [
    "Сформируем итоговую функцию, отвещающую за перемещение муравья по торической решетке"
   ]
  },
  {
   "cell_type": "code",
   "execution_count": 13,
   "id": "exposed-hierarchy",
   "metadata": {},
   "outputs": [],
   "source": [
    "def go():\n",
    "    global current_direction, matrix_color, matrix_location, current_location, current_direction, check_color\n",
    "    if current_direction == 'left':\n",
    "        go_left()\n",
    "    elif current_direction == 'right':\n",
    "        go_right()\n",
    "    elif current_direction == 'up':\n",
    "        go_up()\n",
    "    elif current_direction == 'down':\n",
    "        go_down()"
   ]
  },
  {
   "cell_type": "markdown",
   "id": "governmental-beginning",
   "metadata": {},
   "source": [
    "Создадим функцию сохранения промежуточных результатов"
   ]
  },
  {
   "cell_type": "code",
   "execution_count": 14,
   "id": "fifth-grocery",
   "metadata": {},
   "outputs": [],
   "source": [
    "def create_fig(location, direction, colors):\n",
    "    global iter_counter, save_directory\n",
    "    fig = plt.figure()\n",
    "    plt.scatter(location[0], location[1], marker=directions.get(direction), c='r', s=800)\n",
    "    fig.patch.set_facecolor('white')\n",
    "    plt.imshow(colors, cmap=cm.gray, alpha=1, vmin=0, vmax=1)\n",
    "    plt.xticks([])\n",
    "    plt.yticks([])\n",
    "    fig.savefig(f\"{save_directory}/{iter_counter}.png\")"
   ]
  },
  {
   "cell_type": "markdown",
   "id": "humanitarian-dealing",
   "metadata": {},
   "source": [
    "Создадим необходимые счетчики"
   ]
  },
  {
   "cell_type": "code",
   "execution_count": 15,
   "id": "photographic-usage",
   "metadata": {},
   "outputs": [],
   "source": [
    "# Количество итераций до выполнения условия\n",
    "iter_counter = 0 \n",
    "\n",
    "# Количество раз, когда поле становилось белым\n",
    "total_white_counter = 0\n",
    "\n",
    "# Номер итерации, на которой поле становилось белым\n",
    "total_white_iter_counter = []"
   ]
  },
  {
   "cell_type": "markdown",
   "id": "interracial-address",
   "metadata": {},
   "source": [
    "Эволюцию ячеек плоского тора выполним в виде цикла while, имитирующего цикл с постусловием"
   ]
  },
  {
   "cell_type": "code",
   "execution_count": 16,
   "id": "determined-taste",
   "metadata": {},
   "outputs": [],
   "source": [
    "# Первая итерация проводится вне цикла\n",
    "if iter_counter == 0:\n",
    "    # create_fig(current_location, current_direction, matrix_color)\n",
    "    iter_counter += 1\n",
    "    go()\n",
    "    # create_fig(current_location, current_direction, matrix_color)\n",
    "    \n",
    "# Вторая и последующие итерации в цикле    \n",
    "if iter_counter == 1:\n",
    "    while True:\n",
    "        iter_counter += 1\n",
    "        go()\n",
    "        # create_fig(current_location, current_direction, matrix_color)\n",
    "        \n",
    "        # Проверка матрицы цвета на полностью белое состояние\n",
    "        if check_color == 0:\n",
    "            total_white_counter += 1\n",
    "            total_white_iter_counter.append(iter_counter)\n",
    "            \n",
    "        # Условия выхода из цикла:\n",
    "        # 1. Поле снова исходного цвета (белое);\n",
    "        # 2. Положение муравья равно начальному   \n",
    "        if check_color == 0 and list(start_location) == list(current_location):\n",
    "            break"
   ]
  },
  {
   "cell_type": "markdown",
   "id": "funded-mambo",
   "metadata": {},
   "source": [
    "Вывод результатов:"
   ]
  },
  {
   "cell_type": "code",
   "execution_count": 17,
   "id": "beautiful-trustee",
   "metadata": {},
   "outputs": [
    {
     "name": "stdout",
     "output_type": "stream",
     "text": [
      "Всего итераций до возвращения в исходное положение:  96\n",
      "В ходе выполнения поле становилось белым (раз):  1\n",
      "Поле становилось белым на итерациях:  [96]\n"
     ]
    }
   ],
   "source": [
    "print('Всего итераций до возвращения в исходное положение: ', iter_counter)\n",
    "print('В ходе выполнения поле становилось белым (раз): ', total_white_counter)\n",
    "print('Поле становилось белым на итерациях: ', total_white_iter_counter)"
   ]
  },
  {
   "cell_type": "markdown",
   "id": "sweet-jungle",
   "metadata": {},
   "source": [
    "Блок, позволяющий создать анимацию из промежуточных отчетов"
   ]
  },
  {
   "cell_type": "code",
   "execution_count": 1,
   "id": "amber-compound",
   "metadata": {},
   "outputs": [],
   "source": [
    "# gif_name = '4x4.gif'\n",
    "# fps = 3\n",
    "# file_list = []\n",
    "# for i in range(iter_counter + 1):\n",
    "    # file_list.append(glob.glob(f'{save_directory}\\\\{i}.png')[0])\n",
    "# clip = mpy.ImageSequenceClip(file_list, fps=fps)\n",
    "# clip.write_gif('{}'.format(gif_name), fps=fps)"
   ]
  },
  {
   "cell_type": "markdown",
   "id": "historical-providence",
   "metadata": {},
   "source": [
    "На рисунке представлены результаты расчетов для торической решетки 2х2:"
   ]
  },
  {
   "cell_type": "markdown",
   "id": "impossible-shame",
   "metadata": {},
   "source": [
    "![AntUrl](https://github.com/PronichevAV/LangtonAnt_TorusGrid/blob/main/gifs/2x2.gif?raw=true \"Ant\")"
   ]
  },
  {
   "cell_type": "markdown",
   "id": "brief-martin",
   "metadata": {},
   "source": [
    "Аналогично для решетки 3х3:"
   ]
  },
  {
   "cell_type": "markdown",
   "id": "acquired-march",
   "metadata": {},
   "source": [
    "![AntUrl](https://github.com/PronichevAV/LangtonAnt_TorusGrid/blob/main/gifs/3x3.gif?raw=true \"Ant\")\n"
   ]
  },
  {
   "cell_type": "markdown",
   "id": "applicable-cleanup",
   "metadata": {},
   "source": [
    "И для торической решетки 4х4:"
   ]
  },
  {
   "cell_type": "markdown",
   "id": "valued-injury",
   "metadata": {},
   "source": [
    "![AntUrl](https://github.com/PronichevAV/LangtonAnt_TorusGrid/blob/main/gifs/4x4.gif?raw=true \"Ant\")"
   ]
  },
  {
   "cell_type": "markdown",
   "id": "laughing-organizer",
   "metadata": {},
   "source": [
    "В таблице представлены результаты расчетов для разных вариантов размера решетки"
   ]
  },
  {
   "cell_type": "code",
   "execution_count": 19,
   "id": "still-necklace",
   "metadata": {},
   "outputs": [
    {
     "data": {
      "text/html": [
       "<div>\n",
       "<style scoped>\n",
       "    .dataframe tbody tr th:only-of-type {\n",
       "        vertical-align: middle;\n",
       "    }\n",
       "\n",
       "    .dataframe tbody tr th {\n",
       "        vertical-align: top;\n",
       "    }\n",
       "\n",
       "    .dataframe thead th {\n",
       "        text-align: right;\n",
       "    }\n",
       "</style>\n",
       "<table border=\"1\" class=\"dataframe\">\n",
       "  <thead>\n",
       "    <tr style=\"text-align: right;\">\n",
       "      <th></th>\n",
       "      <th>Сторона тора (n)</th>\n",
       "      <th>Количество раз, когда поле становилось белым (m)</th>\n",
       "      <th>Количество ходов, через которое поле первый раз становилось белым (l)</th>\n",
       "      <th>Количество ходов до возвращения муравья в исходное положение (k)</th>\n",
       "    </tr>\n",
       "  </thead>\n",
       "  <tbody>\n",
       "    <tr>\n",
       "      <th>0</th>\n",
       "      <td>2</td>\n",
       "      <td>1</td>\n",
       "      <td>8</td>\n",
       "      <td>8</td>\n",
       "    </tr>\n",
       "    <tr>\n",
       "      <th>1</th>\n",
       "      <td>3</td>\n",
       "      <td>3</td>\n",
       "      <td>22</td>\n",
       "      <td>66</td>\n",
       "    </tr>\n",
       "    <tr>\n",
       "      <th>2</th>\n",
       "      <td>4</td>\n",
       "      <td>1</td>\n",
       "      <td>96</td>\n",
       "      <td>96</td>\n",
       "    </tr>\n",
       "    <tr>\n",
       "      <th>3</th>\n",
       "      <td>5</td>\n",
       "      <td>5</td>\n",
       "      <td>2342</td>\n",
       "      <td>11710</td>\n",
       "    </tr>\n",
       "    <tr>\n",
       "      <th>4</th>\n",
       "      <td>6</td>\n",
       "      <td>1</td>\n",
       "      <td>4592</td>\n",
       "      <td>4592</td>\n",
       "    </tr>\n",
       "    <tr>\n",
       "      <th>5</th>\n",
       "      <td>7</td>\n",
       "      <td>7</td>\n",
       "      <td>9166514</td>\n",
       "      <td>64165598</td>\n",
       "    </tr>\n",
       "    <tr>\n",
       "      <th>6</th>\n",
       "      <td>8</td>\n",
       "      <td>1</td>\n",
       "      <td>11502464</td>\n",
       "      <td>11502464</td>\n",
       "    </tr>\n",
       "  </tbody>\n",
       "</table>\n",
       "</div>"
      ],
      "text/plain": [
       "   Сторона тора (n)  Количество раз, когда поле становилось белым (m)  \\\n",
       "0                 2                                                 1   \n",
       "1                 3                                                 3   \n",
       "2                 4                                                 1   \n",
       "3                 5                                                 5   \n",
       "4                 6                                                 1   \n",
       "5                 7                                                 7   \n",
       "6                 8                                                 1   \n",
       "\n",
       "   Количество ходов, через которое поле первый раз становилось белым (l)  \\\n",
       "0                                                  8                       \n",
       "1                                                 22                       \n",
       "2                                                 96                       \n",
       "3                                               2342                       \n",
       "4                                               4592                       \n",
       "5                                            9166514                       \n",
       "6                                           11502464                       \n",
       "\n",
       "   Количество ходов до возвращения муравья в исходное положение (k)  \n",
       "0                                                  8                 \n",
       "1                                                 66                 \n",
       "2                                                 96                 \n",
       "3                                              11710                 \n",
       "4                                               4592                 \n",
       "5                                           64165598                 \n",
       "6                                           11502464                 "
      ]
     },
     "execution_count": 19,
     "metadata": {},
     "output_type": "execute_result"
    }
   ],
   "source": [
    "results = pd.read_excel('results.xlsx')\n",
    "results"
   ]
  },
  {
   "cell_type": "markdown",
   "id": "incorrect-hollow",
   "metadata": {},
   "source": [
    "## Выводы"
   ]
  },
  {
   "cell_type": "markdown",
   "id": "third-belfast",
   "metadata": {},
   "source": [
    "Из полученных данных видно, что у торов с нечётным n число m равно числу n, а у торов с чётным n число m равно единице.\n",
    "\n",
    "Возникает гипотеза, что так дело будет обстоять всегда, для произвольных n.\n",
    "\n",
    "Из этой гипотезы возникает теорема: если n=p, где р – простое нечётное число, причём первый раз, когда поле становилось, муравей не был в исходной клетке, но смотрел в ту же сторону, что и вначале, то m=n. "
   ]
  }
 ],
 "metadata": {
  "kernelspec": {
   "display_name": "Python 3",
   "language": "python",
   "name": "python3"
  },
  "language_info": {
   "codemirror_mode": {
    "name": "ipython",
    "version": 3
   },
   "file_extension": ".py",
   "mimetype": "text/x-python",
   "name": "python",
   "nbconvert_exporter": "python",
   "pygments_lexer": "ipython3",
   "version": "3.8.3"
  }
 },
 "nbformat": 4,
 "nbformat_minor": 5
}
